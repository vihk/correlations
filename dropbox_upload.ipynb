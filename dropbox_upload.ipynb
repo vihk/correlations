{
 "cells": [
  {
   "cell_type": "code",
   "execution_count": 1,
   "id": "69ccc1ef",
   "metadata": {},
   "outputs": [],
   "source": [
    "import dropbox\n",
    "from dropbox.exceptions import AuthError"
   ]
  },
  {
   "cell_type": "code",
   "execution_count": 17,
   "id": "858ce8a5",
   "metadata": {},
   "outputs": [
    {
     "name": "stdout",
     "output_type": "stream",
     "text": [
      "Valid Token.\n"
     ]
    },
    {
     "data": {
      "text/plain": [
       "FileMetadata(client_modified=datetime.datetime(2022, 9, 13, 22, 18, 21), content_hash='7239348d258389bbe19990faf13d34ec1ae55fadb074957185242e159781cd8b', export_info=NOT_SET, file_lock_info=NOT_SET, has_explicit_shared_members=NOT_SET, id='id:s8dFWm6BcHIAAAAAAAAACg', is_downloadable=True, media_info=NOT_SET, name='temp_06_08.png', parent_shared_folder_id=NOT_SET, path_display='/temp_06_08.png', path_lower='/temp_06_08.png', preview_url=NOT_SET, property_groups=NOT_SET, rev='5e89663dd25c0b3dbd381', server_modified=datetime.datetime(2022, 9, 13, 22, 18, 21), sharing_info=NOT_SET, size=87637, symlink_info=NOT_SET)"
      ]
     },
     "execution_count": 17,
     "metadata": {},
     "output_type": "execute_result"
    }
   ],
   "source": [
    "dbx = dropbox.Dropbox(\n",
    "    app_key = '####',\n",
    "    app_secret = '######',\n",
    "    oauth2_refresh_token = '######'\n",
    ")\n",
    "pathname = 'temp_06_08.png'\n",
    "dbx_folder_path = '/' + pathname.rsplit('/', 1)[-1]\n",
    "print('Valid Token.')\n",
    "dbx.files_upload(open(pathname, \"rb\").read(), dbx_folder_path)"
   ]
  },
  {
   "cell_type": "code",
   "execution_count": 16,
   "id": "a3689aea",
   "metadata": {},
   "outputs": [],
   "source": [
    "import requests"
   ]
  },
  {
   "cell_type": "code",
   "execution_count": null,
   "id": "ae8b9df9",
   "metadata": {},
   "outputs": [],
   "source": [
    "\"\"\"\n",
    "HOW TO DO:\n",
    "scoped access (remember to enable everything in app), choose app folder (much easier), name app.\n",
    "\n",
    "https://www.dropbox.com/lp/developers\n",
    "\n",
    "\n",
    "go to https://www.dropbox.com/oauth2/authorize?client_id=<APP_KEY>&token_access_type=offline&response_type=code\n",
    "replace APP_KEY with key\n",
    "get Authorization code\n",
    "go to postman.com\n",
    "create new request [POST]\n",
    "request URL - https://api.dropboxapi.com/oauth2/token\n",
    "Authorization, Basic Auth, USERNAME = APPKEY, PASSWORD = APPSECRET\n",
    "body - 'x-www-form-urlencoded'\n",
    "\n",
    "returns wioth refreshtoken in JSON\n",
    "insert into dropbox.Dropbox()\n",
    "\n",
    "\"\"\""
   ]
  }
 ],
 "metadata": {
  "kernelspec": {
   "display_name": "Python 3",
   "language": "python",
   "name": "python3"
  },
  "language_info": {
   "codemirror_mode": {
    "name": "ipython",
    "version": 3
   },
   "file_extension": ".py",
   "mimetype": "text/x-python",
   "name": "python",
   "nbconvert_exporter": "python",
   "pygments_lexer": "ipython3",
   "version": "3.8.8"
  }
 },
 "nbformat": 4,
 "nbformat_minor": 5
}
