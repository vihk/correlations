{
 "cells": [
  {
   "cell_type": "code",
   "execution_count": null,
   "metadata": {},
   "outputs": [],
   "source": []
  },
  {
   "cell_type": "code",
   "execution_count": 1,
   "metadata": {},
   "outputs": [
    {
     "name": "stdout",
     "output_type": "stream",
     "text": [
      "done.\n",
      "done.\n",
      "done.\n",
      "done.\n",
      "done.\n",
      "done.\n",
      "done.\n",
      "done.\n",
      "done.\n",
      "done.\n",
      "done.\n",
      "done.\n",
      "error occured, df for dshsskipped\n",
      "done.\n",
      "done.\n",
      "done.\n",
      "done.\n",
      "done.\n",
      "done.\n",
      "error occured, df for hillside_highskipped\n",
      "done.\n",
      "error occured, df for hf6skipped\n",
      "done.\n",
      "done.\n",
      "done.\n",
      "error occured, df for cherkasyskipped\n",
      "done.\n",
      "done.\n",
      "error occured, df for fukushimahsskipped\n"
     ]
    }
   ],
   "source": [
    "from dash import Dash, dcc, html, Input, Output\n",
    "import plotly.express as px\n",
    "import pandas as pd\n",
    "import numpy as np\n",
    "import math\n",
    "import requests\n",
    "from io import StringIO\n",
    "\n",
    "url=\"https://radwatch.berkeley.edu/test/tmp/Station.csv\"\n",
    "\n",
    "header = {\n",
    "  \"User-Agent\": \"Mozilla/5.0 (X11; Linux x86_64) AppleWebKit/537.36 (KHTML, like Gecko) Chrome/50.0.2661.75 Safari/537.36\",\n",
    "  \"X-Requested-With\": \"XMLHttpRequest\"\n",
    "}\n",
    "\n",
    "s=requests.get(url, headers=header).text\n",
    "c=pd.read_csv(StringIO(s))\n",
    "\n",
    "newpacket = []\n",
    "areanames = []\n",
    "for areas in range(1,30):\n",
    "    try:\n",
    "        nickname = c['nickname'][areas]\n",
    "        url=\"https://radwatch.berkeley.edu/test/tmp/dosenet/\" + nickname + \"_month.csv\"\n",
    "        sec=requests.get(url, headers=header).text\n",
    "        cont=pd.read_csv(StringIO(sec))\n",
    "    except:\n",
    "        print('error occured, df for ' + nickname + 'skipped')\n",
    "        continue\n",
    "    else:\n",
    "        newpacket.append(cont)\n",
    "        areanames.append(nickname)\n",
    "        print('done.')"
   ]
  },
  {
   "cell_type": "code",
   "execution_count": null,
   "metadata": {},
   "outputs": [],
   "source": []
  },
  {
   "cell_type": "code",
   "execution_count": 2,
   "metadata": {},
   "outputs": [
    {
     "name": "stdout",
     "output_type": "stream",
     "text": [
      "2.656171059049215\n",
      "completed.\n",
      "1.5608624929407156\n",
      "completed.\n",
      "1.6130836708817753\n",
      "completed.\n",
      "2.412770007381698\n",
      "completed.\n",
      "3.1702728061993684\n",
      "completed.\n",
      "2.7463549415734048\n",
      "completed.\n",
      "1.7264080066480434\n",
      "completed.\n",
      "0.0\n",
      "completed.\n",
      "1.683175235729165\n",
      "completed.\n",
      "4.403279939893253\n",
      "completed.\n",
      "2.1268078539532445\n",
      "completed.\n",
      "0.927064650727312\n",
      "completed.\n",
      "1.5258071186870126\n",
      "completed.\n",
      "5.756368001951162\n",
      "completed.\n",
      "7.389229168841051\n",
      "completed.\n",
      "1.6225358678521262\n",
      "completed.\n",
      "1.603502347740443\n",
      "completed.\n",
      "2.9059485555073796\n",
      "completed.\n",
      "4.196858253288831\n",
      "completed.\n",
      "1.6315447619650698\n",
      "completed.\n",
      "3.526899853637477\n",
      "completed.\n",
      "3.783083564600678\n",
      "completed.\n",
      "3.4884640482583524\n",
      "completed.\n",
      "2.557953403269451\n",
      "completed.\n"
     ]
    }
   ],
   "source": [
    "newaverages = []\n",
    "errorFreePackets = []\n",
    "newCPMS = []\n",
    "newMEANS = []\n",
    "listofSUMS = []\n",
    "cpmlists  = []\n",
    "for areas in range(len(newpacket)):\n",
    "    try:\n",
    "        df = newpacket[areas]\n",
    "        cpmdf = df['cpm']\n",
    "        sumdf = cpmdf.sum()\n",
    "        sumdf = sumdf/len(df)\n",
    "        print(sumdf)\n",
    "    except:\n",
    "        areanames.pop(areas)\n",
    "        print('area removed, no counts found.')\n",
    "        continue\n",
    "    else:\n",
    "        print('completed.')\n",
    "        newaverages.append(sumdf)\n",
    "        errorFreePackets.append(areanames[areas])\n",
    "        CPMstd = np.std(cpmdf)\n",
    "        newCPMS.append(CPMstd)\n",
    "        CPMmean = np.mean(cpmdf)\n",
    "        newMEANS.append(CPMmean)\n",
    "        listofSUMS.append(cpmdf.sum())\n",
    "        cpmlists.append(cpmdf.to_numpy())"
   ]
  },
  {
   "cell_type": "code",
   "execution_count": 3,
   "metadata": {},
   "outputs": [],
   "source": [
    "data = {'CPMS': newCPMS, 'areanames': areanames, \n",
    "       'newmeans':newMEANS}\n",
    "df = pd.DataFrame(data)"
   ]
  },
  {
   "cell_type": "code",
   "execution_count": null,
   "metadata": {},
   "outputs": [
    {
     "name": "stdout",
     "output_type": "stream",
     "text": [
      "Dash is running on http://127.0.0.1:8050/\n",
      "\n",
      " * Serving Flask app '__main__'\n",
      " * Debug mode: on\n"
     ]
    }
   ],
   "source": [
    "from dash import Dash, dcc, html, Input, Output\n",
    "import plotly.express as px\n",
    "import json\n",
    "\n",
    "app = Dash(__name__)\n",
    "\n",
    "app.layout = html.Div([\n",
    "    html.H4('Dash Sample CPM'),\n",
    "    dcc.Dropdown(\n",
    "        id=\"dropdown\",\n",
    "        options=[\"Black\", \"White\", \"Green\"],\n",
    "        clearable=False,\n",
    "    ),\n",
    "    dcc.Graph(id=\"graph\"),\n",
    "])\n",
    "\n",
    "\n",
    "@app.callback(\n",
    "    Output(\"graph\", \"figure\"), \n",
    "    Input(\"dropdown\", \"value\"))\n",
    "def update_bar_chart(color):\n",
    "    mask = df[\"color\"] = color\n",
    "    fig = px.bar(df, x=\"areanames\", y=\"newmeans\", error_y = \"CPMS\", color = \"color\")\n",
    "    return fig\n",
    "\n",
    "\n",
    "\n",
    "app.run_server(debug=True, use_reloader=False)"
   ]
  },
  {
   "cell_type": "code",
   "execution_count": null,
   "metadata": {},
   "outputs": [],
   "source": []
  },
  {
   "cell_type": "code",
   "execution_count": null,
   "metadata": {},
   "outputs": [],
   "source": []
  },
  {
   "cell_type": "code",
   "execution_count": null,
   "metadata": {},
   "outputs": [],
   "source": []
  }
 ],
 "metadata": {
  "kernelspec": {
   "display_name": "Python 3",
   "language": "python",
   "name": "python3"
  },
  "language_info": {
   "codemirror_mode": {
    "name": "ipython",
    "version": 3
   },
   "file_extension": ".py",
   "mimetype": "text/x-python",
   "name": "python",
   "nbconvert_exporter": "python",
   "pygments_lexer": "ipython3",
   "version": "3.9.12"
  },
  "vscode": {
   "interpreter": {
    "hash": "e7bd539b5cc3b58a4121910e907c846ee244db5de8a49321d9660f26c65423e8"
   }
  }
 },
 "nbformat": 4,
 "nbformat_minor": 2
}
